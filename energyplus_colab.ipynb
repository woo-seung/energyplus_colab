{
  "nbformat": 4,
  "nbformat_minor": 0,
  "metadata": {
    "colab": {
      "name": "ep python api tutorial.ipynb",
      "provenance": [],
      "collapsed_sections": [
        "JTPNbBglNRf0"
      ],
      "mount_file_id": "1NhF4ToPGmf40KMNgRwA9NI5rpugJ4a2h",
      "authorship_tag": "ABX9TyNZRq84Ez6mwgCpXeNZ39DZ",
      "include_colab_link": true
    },
    "kernelspec": {
      "name": "python3",
      "display_name": "Python 3"
    },
    "accelerator": "GPU"
  },
  "cells": [
    {
      "cell_type": "markdown",
      "metadata": {
        "id": "view-in-github",
        "colab_type": "text"
      },
      "source": [
        "<a href=\"https://colab.research.google.com/github/woo-seung/energyplus_colab/blob/master/energyplus_colab.ipynb\" target=\"_parent\"><img src=\"https://colab.research.google.com/assets/colab-badge.svg\" alt=\"Open In Colab\"/></a>"
      ]
    },
    {
      "cell_type": "markdown",
      "metadata": {
        "id": "uhTzgHOIgFSV",
        "colab_type": "text"
      },
      "source": [
        "# EnergyPlus Python API tutorials\n",
        "- [EnergyPlus python API documentation](https://nrel.github.io/EnergyPlus/api/python/index.html)\n",
        "- [API full example](https://github.com/NREL/EnergyPlus/tree/e858cb2b02e0e681bc2492fbe3938c1e5d03a0d1/tst/EnergyPlus/api)\n",
        "- [Input Output Reference v9.3.0](https://energyplus.net/sites/all/modules/custom/nrel_custom/pdfs/pdfs_v9.3.0/InputOutputReference.pdf)\n",
        "- [EMS Application Guide v9.3.0](https://energyplus.net/sites/all/modules/custom/nrel_custom/pdfs/pdfs_v9.3.0/EMSApplicationGuide.pdf)"
      ]
    },
    {
      "cell_type": "markdown",
      "metadata": {
        "id": "-nY4CQqWK9FS",
        "colab_type": "text"
      },
      "source": [
        "# 1. Install EnergyPlus"
      ]
    },
    {
      "cell_type": "code",
      "metadata": {
        "id": "kgj1EoM4EM65",
        "colab_type": "code",
        "outputId": "9f5b9631-6cc0-4f59-ef3e-a8b13c901c0e",
        "colab": {
          "base_uri": "https://localhost:8080/",
          "height": 624
        }
      },
      "source": [
        "# install EP to \"/usr/local/EnergyPlus-9-3-0\"\n",
        "!chmod +x /content/drive/My\\ Drive/ep_drive/EnergyPlus-9.3.0-baff08990c-Linux-x86_64.sh\n",
        "!sudo /content/drive/My\\ Drive/ep_drive/EnergyPlus-9.3.0-baff08990c-Linux-x86_64.sh\n",
        "# to capture C-level stdout/stderr pipes in Python\n",
        "!pip install wurlitzer\n",
        "# check EP\n",
        "print('\\n- Check EnergyPlus Version')\n",
        "!energyplus -version"
      ],
      "execution_count": 0,
      "outputs": [
        {
          "output_type": "stream",
          "text": [
            "EnergyPlus, Copyright (c) 1996-2020, The Board of Trustees of the University of Illinois, The Regents of the University of California, through Lawrence Berkeley National Laboratory (subject to receipt of any required approvals from the U.S. Dept. of Energy), Oak Ridge National Laboratory, managed by UT-Battelle, Alliance for Sustainable Energy, LLC, and other contributors. All rights reserved.\n",
            "\n",
            "NOTICE: This Software was developed under funding from the U.S. Department of Energy and the U.S. Government consequently retains certain rights. As such, the U.S. Government has been granted for itself and others acting on its behalf a paid-up, nonexclusive, irrevocable, worldwide license in the Software to reproduce, distribute copies to the public, prepare derivative works, and perform publicly and display publicly, and to permit others to do so.\n",
            "\n",
            "Redistribution and use in source and binary forms, with or without modification, are permitted provided that the following conditions are met:\n",
            "\n",
            "(1) Redistributions of source code must retain the above copyright notice, this list of conditions and the following disclaimer.\n",
            "\n",
            "(2) Redistributions in binary form must reproduce the above copyright notice, this list of conditions and the following disclaimer in the documentation and/or other materials provided with the distribution.\n",
            "\n",
            "(3) Neither the name of the University of California, Lawrence Berkeley National Laboratory, the University of Illinois, U.S. Dept. of Energy nor the names of its contributors may be used to endorse or promote products derived from this software without specific prior written permission.\n",
            "\n",
            "(4) Use of EnergyPlus(TM) Name. If Licensee (i) distributes the software in stand-alone form without changes from the version obtained under this License, or (ii) Licensee makes a reference solely to the software portion of its product, Licensee must refer to the software as \"EnergyPlus version X\" software, where \"X\" is the version number Licensee obtained under this License and may not use a different name for the software. Except as specifically required in this Section (4), Licensee shall not use in a company name, a product name, in advertising, publicity, or other promotional activities any name, trade name, trademark, logo, or other designation of \"EnergyPlus\", \"E+\", \"e+\" or confusingly similar designation, without the U.S. Department of Energy's prior written consent.\n",
            "\n",
            "THIS SOFTWARE IS PROVIDED BY THE COPYRIGHT HOLDERS AND CONTRIBUTORS \"AS IS\" AND ANY EXPRESS OR IMPLIED WARRANTIES, INCLUDING, BUT NOT LIMITED TO, THE IMPLIED WARRANTIES OF MERCHANTABILITY AND FITNESS FOR A PARTICULAR PURPOSE ARE DISCLAIMED. IN NO EVENT SHALL THE COPYRIGHT OWNER OR CONTRIBUTORS BE LIABLE FOR ANY DIRECT, INDIRECT, INCIDENTAL, SPECIAL, EXEMPLARY, OR CONSEQUENTIAL DAMAGES (INCLUDING, BUT NOT LIMITED TO, PROCUREMENT OF SUBSTITUTE GOODS OR SERVICES; LOSS OF USE, DATA, OR PROFITS; OR BUSINESS INTERRUPTION) HOWEVER CAUSED AND ON ANY THEORY OF LIABILITY, WHETHER IN CONTRACT, STRICT LIABILITY, OR TORT (INCLUDING NEGLIGENCE OR OTHERWISE) ARISING IN ANY WAY OUT OF THE USE OF THIS SOFTWARE, EVEN IF ADVISED OF THE POSSIBILITY OF SUCH DAMAGE.\n",
            "\n",
            "\n",
            "Do you accept the license? [y/\u001b[1;31mN\u001b[0m]: \n",
            "y\n",
            "EnergyPlus install directory [/usr/local/EnergyPlus-9-3-0]:\n",
            "\n",
            "Symbolic link location (enter \u001b[1;31m\"n\"\u001b[0m for no links) [/usr/local/bin]:\n",
            "/usr/local/bin\n",
            "Extracting, please wait...\n",
            "Unpacking to directory '/usr/local/EnergyPlus-9-3-0' was successful.\n",
            "Symbolic links were successful.\n",
            "Collecting wurlitzer\n",
            "  Downloading https://files.pythonhosted.org/packages/24/5e/f3bd8443bfdf96d2f5d10097d301076a9eb55637b7864e52d2d1a4d8c72a/wurlitzer-2.0.0-py2.py3-none-any.whl\n",
            "Installing collected packages: wurlitzer\n",
            "Successfully installed wurlitzer-2.0.0\n",
            "\n",
            "- Check EnergyPlus Version\n",
            "EnergyPlus, Version 9.3.0-baff08990c\n"
          ],
          "name": "stdout"
        }
      ]
    },
    {
      "cell_type": "markdown",
      "metadata": {
        "id": "YGN5pZecLFPn",
        "colab_type": "text"
      },
      "source": [
        "# 2. Initialization"
      ]
    },
    {
      "cell_type": "code",
      "metadata": {
        "id": "dt5BofOiKuRD",
        "colab_type": "code",
        "colab": {}
      },
      "source": [
        "# setting\n",
        "%load_ext wurlitzer\n",
        "import sys\n",
        "import os\n",
        "import shutil\n",
        "sys.path.insert(0, '/usr/local/EnergyPlus-9-3-0')\n",
        "from pyenergyplus.api import EnergyPlusAPI\n",
        "\n",
        "# you should connect your google drive\n",
        "OUTPUT_PATH = '/content/drive/My Drive/ep_drive/output'\n",
        "if os.path.exists(OUTPUT_PATH): shutil.rmtree(OUTPUT_PATH)\n",
        "if not os.path.exists(OUTPUT_PATH):os.makedirs(OUTPUT_PATH)\n",
        "\n",
        "EPW_PATH = r'/content/drive/My Drive/ep_drive/epw/USA_CA_San.Francisco.Intl.AP.724940_TMY3.epw'\n",
        "IDF_PATH = r'/content/drive/My Drive/ep_drive/idf/2ZoneDataCenterHVAC_wEconomizer.idf'\n",
        "EP_CL = ['-d', OUTPUT_PATH, '-w', EPW_PATH, IDF_PATH]"
      ],
      "execution_count": 0,
      "outputs": []
    },
    {
      "cell_type": "markdown",
      "metadata": {
        "id": "IvJvHYM9LL_T",
        "colab_type": "text"
      },
      "source": [
        "# 3. Examples"
      ]
    },
    {
      "cell_type": "markdown",
      "metadata": {
        "id": "8lG8WQgkNL4j",
        "colab_type": "text"
      },
      "source": [
        "## 1. Runtime API example"
      ]
    },
    {
      "cell_type": "code",
      "metadata": {
        "id": "Eb9QwAogmQFT",
        "colab_type": "code",
        "outputId": "4b7509b3-1bf8-4acb-c5ab-0d77917a432a",
        "colab": {
          "base_uri": "https://localhost:8080/",
          "height": 1000
        }
      },
      "source": [
        "# Example 1\n",
        "\n",
        "def dummy_callback_function():\n",
        "    pass\n",
        "api = EnergyPlusAPI()\n",
        "api.runtime.callback_begin_new_environment(dummy_callback_function)\n",
        "api.runtime.run_energyplus(EP_CL)\n",
        "\n",
        "# api.runtime.clear_all_states() # ??\n",
        "# api = EnergyPlusAPI()\n",
        "# api.runtime.callback_begin_new_environment(dummy_callback_function)\n",
        "# api.runtime.run_energyplus(EP_CL)"
      ],
      "execution_count": 0,
      "outputs": [
        {
          "output_type": "stream",
          "text": [
            "EnergyPlus Starting\n",
            "EnergyPlus, Version 9.3.0-baff08990c, YMD=2020.06.04 12:31\n",
            "Initializing Response Factors\n",
            "Calculating CTFs for \"EXT-WALLS\", Construction # 1\n",
            "Calculating CTFs for \"FLOOR\", Construction # 2\n",
            "Calculating CTFs for \"PARTITION\", Construction # 4\n",
            "Calculating CTFs for \"PLENUM FLOOR\", Construction # 5\n",
            "Initializing Window Optical Properties\n",
            "Initializing Solar Calculations\n",
            "Allocate Solar Module Arrays\n",
            "Initializing Zone and Enclosure Report Variables\n",
            "Initializing Surface (Shading) Report Variables\n",
            "Computing Interior Solar Absorption Factors\n",
            "Determining Shadowing Combinations\n",
            "Computing Window Shade Absorption Factors\n",
            "Proceeding with Initializing Solar Calculations\n",
            "Initializing Surfaces\n",
            "Initializing Outdoor environment for Surfaces\n",
            "Setting up Surface Reporting Variables\n",
            "Initializing Temperature and Flux Histories\n",
            "Initializing Window Shading\n",
            "Computing Interior Absorption Factors\n",
            "Computing Interior Diffuse Solar Absorption Factors\n",
            "Computing Interior Diffuse Solar Exchange through Interzone Windows\n",
            "Initializing Solar Heat Gains\n",
            "Initializing Internal Heat Gains\n",
            "Initializing Interior Solar Distribution\n",
            "Initializing Interior Convection Coefficients\n",
            "Gathering Information for Predefined Reporting\n",
            "Completed Initializing Surface Heat Balance\n",
            "Calculate Outside Surface Heat Balance\n",
            "Calculate Inside Surface Heat Balance\n",
            "Calculate Air Heat Balance\n",
            "Initializing HVAC\n",
            "Warming up\n",
            "Warming up\n",
            "Warming up\n",
            "Warming up\n",
            "Warming up\n",
            "Warming up\n",
            "Performing Zone Sizing Simulation\n",
            "...for Sizing Period: #1 CHICAGO_IL_USA ANNUAL HEATING 99% DESIGN CONDITIONS DB\n",
            "Warming up\n",
            "Warming up\n",
            "Warming up\n",
            "Warming up\n",
            "Warming up\n",
            "Warming up\n",
            "Performing Zone Sizing Simulation\n",
            "...for Sizing Period: #2 CHICAGO_IL_USA ANNUAL COOLING 1% DESIGN CONDITIONS DB/MCWB\n",
            "Calculating System sizing\n",
            "...for Sizing Period: #1 CHICAGO_IL_USA ANNUAL HEATING 99% DESIGN CONDITIONS DB\n",
            "Calculating System sizing\n",
            "...for Sizing Period: #2 CHICAGO_IL_USA ANNUAL COOLING 1% DESIGN CONDITIONS DB/MCWB\n",
            "Adjusting Air System Sizing\n",
            "Adjusting Standard 62.1 Ventilation Sizing\n",
            "Initializing Simulation\n",
            "Reporting Surfaces\n",
            "Beginning Primary Simulation\n",
            "Initializing New Environment Parameters\n",
            "Warming up {1}\n",
            "Warming up {2}\n",
            "Warming up {3}\n",
            "Warming up {4}\n",
            "Warming up {5}\n",
            "Warming up {6}\n",
            "Warming up {7}\n",
            "Warming up {8}\n",
            "Warming up {9}\n",
            "Warming up {10}\n",
            "Warming up {11}\n",
            "Warming up {12}\n",
            "Warming up {13}\n",
            "Warming up {14}\n",
            "Warming up {15}\n",
            "Warming up {16}\n",
            "Warming up {17}\n",
            "Warming up {18}\n",
            "Warming up {19}\n",
            "Warming up {20}\n",
            "Warming up {21}\n",
            "Warming up {22}\n",
            "Warming up {23}\n",
            "Warming up {24}\n",
            "Warming up {25}\n",
            "Warming up {26}\n",
            "Warming up {27}\n",
            "Warming up {28}\n",
            "Warming up {29}\n",
            "Warming up {30}\n",
            "Starting Simulation at 01/12/2010 for WINTERSEASONDAY\n",
            "Initializing New Environment Parameters\n",
            "Warming up {1}\n",
            "Warming up {2}\n",
            "Warming up {3}\n",
            "Warming up {4}\n",
            "Warming up {5}\n",
            "Warming up {6}\n",
            "Starting Simulation at 04/14/2015 for SPRINGSEASONDAY\n",
            "Initializing New Environment Parameters\n",
            "Warming up {1}\n",
            "Warming up {2}\n",
            "Warming up {3}\n",
            "Warming up {4}\n",
            "Warming up {5}\n",
            "Warming up {6}\n",
            "Starting Simulation at 07/14/2015 for SUMMERSEASONDAY\n",
            "Initializing New Environment Parameters\n",
            "Warming up {1}\n",
            "Warming up {2}\n",
            "Warming up {3}\n",
            "Warming up {4}\n",
            "Warming up {5}\n",
            "Warming up {6}\n",
            "Starting Simulation at 10/12/2010 for AUTUMNSEASONDAY\n",
            "Writing tabular output file results using HTML format.\n",
            "Writing final SQL reports\n",
            "EnergyPlus Run Time=00hr 00min  8.25sec\n"
          ],
          "name": "stdout"
        },
        {
          "output_type": "stream",
          "text": [
            "EnergyPlus Completed Successfully.\n"
          ],
          "name": "stderr"
        },
        {
          "output_type": "execute_result",
          "data": {
            "text/plain": [
              "0"
            ]
          },
          "metadata": {
            "tags": []
          },
          "execution_count": 3
        }
      ]
    },
    {
      "cell_type": "code",
      "metadata": {
        "id": "730V0ibDK2Ay",
        "colab_type": "code",
        "colab": {}
      },
      "source": [
        "# Example 2\n",
        "\n",
        "def environment_handler() -> None:\n",
        "    print(\"OH HAI ENVIRONMENT\")\n",
        "    sys.stdout.flush()\n",
        "\n",
        "def progress_handler(progress: int) -> None:\n",
        "    if 49 < progress < 51:\n",
        "        print(\"HALFWAY THERE!!\")\n",
        "        sys.stdout.flush()\n",
        "\n",
        "def error_handler(message: bytes) -> None:\n",
        "    if b'Warning' in message:\n",
        "        print(\"GOT A WARNING UH OH!\")\n",
        "        sys.stdout.flush()\n",
        "\n",
        "api = EnergyPlusAPI()\n",
        "api.runtime.callback_begin_new_environment(environment_handler)\n",
        "api.runtime.callback_progress(progress_handler)\n",
        "api.functional.callback_error(error_handler)\n",
        "api.runtime.run_energyplus(EP_CL)"
      ],
      "execution_count": 0,
      "outputs": []
    },
    {
      "cell_type": "markdown",
      "metadata": {
        "id": "JTPNbBglNRf0",
        "colab_type": "text"
      },
      "source": [
        "## 2. Functional API example"
      ]
    },
    {
      "cell_type": "code",
      "metadata": {
        "id": "8DNTGwUMlTb5",
        "colab_type": "code",
        "colab": {}
      },
      "source": [
        "# Example 1\n",
        "\n",
        "api = EnergyPlusAPI()\n",
        "glycol = api.functional.glycol(u\"water\")\n",
        "cp = glycol.specific_heat(35.0)\n",
        "refrigerant = api.functional.refrigerant(\"steam\")\n",
        "satPress = refrigerant.saturation_pressure(100.0)\n",
        "psychrometrics = api.functional.psychrometrics()\n",
        "rh = psychrometrics.relative_humidity_b(24, 0.009, 101325)\n",
        "print(f'dry_bulb_temp: 24, humidity_ratio: 0.009, barometric_pressure: 101325 -> rh: {rh}')"
      ],
      "execution_count": 0,
      "outputs": []
    },
    {
      "cell_type": "code",
      "metadata": {
        "id": "qS3aN8N4NTCt",
        "colab_type": "code",
        "colab": {}
      },
      "source": [
        "# Example 2\n",
        "\n",
        "api = EnergyPlusAPI()\n",
        "\n",
        "# GLYCOL TESTS\n",
        "glycol = api.functional.glycol(u\"water\")\n",
        "for t in [5.0, 15.0, 25.0]:\n",
        "    cp = glycol.specific_heat(t)\n",
        "    rho = glycol.density(t)\n",
        "    k = glycol.conductivity(t)\n",
        "    viscosity = glycol.viscosity(t)\n",
        "    print(\"Python API Test: Calculated properties at T=%s: %f, %f, %f, %f\" % (t, cp, rho, k, viscosity))\n",
        "\n",
        "# REFRIGERANT TESTS\n",
        "refrigerant = api.functional.refrigerant(\"steam\")\n",
        "temperature = 100.0\n",
        "satPress = refrigerant.saturation_pressure(temperature)  # expecting about 101325 Pa\n",
        "thisPress = 100000\n",
        "satTemp = refrigerant.saturation_temperature(thisPress)  # expecting about 100 degC\n",
        "print(\"Python API Test: Saturated Properties: At 100C, Psat=%8.4f; at 100000Pa, Tsat=%8.4f\" % (satPress, satTemp))\n",
        "satLiqDens = refrigerant.saturated_density(temperature, 0.0)  # // liq = 958 kg/m3\n",
        "satLiqCp = refrigerant.saturated_specific_heat(temperature, 0.0)  # liq = 4,216 J/kgK\n",
        "satLiqEnth = refrigerant.saturated_enthalpy(temperature, 0.0)\n",
        "print(\"C API Test: Sat Liq at 100C: rho=%8.4f, Cp=%8.4f, h=%8.4f\" % (satLiqDens, satLiqCp, satLiqEnth))\n",
        "satVapDens = refrigerant.saturated_density(temperature, 1.0)  # vap = 1/1.6718 ~~ 0.59 kg/m3\n",
        "satVapCp = refrigerant.saturated_specific_heat(temperature, 1.0)  # vap = 2,080 J/kgK\n",
        "satVapEnth = refrigerant.saturated_enthalpy(temperature, 1.0)\n",
        "print(\"C API Test: Sat Vap at 100C: rho=%8.4f, Cp=%8.4f, h=%8.4f\" % (satVapDens, satVapCp, satVapEnth))\n",
        "enthDifference = satVapEnth - satLiqEnth  # vap-liq = 2,675,570-419,170 ~ 2,256,400 J/kg\n",
        "\n",
        "# PSYCHROMETRIC TESTS\n",
        "psychrometrics = api.functional.psychrometrics()\n",
        "# // PSYCHROMETRICS\n",
        "# // test point is:\n",
        "# //   Barometric Pressure: 101325 Pa\n",
        "# //   Dry Bulb Temp: 24 C\n",
        "# //   Relative Humidity: 0.5\n",
        "# //   Humidity Ratio: ~0.009 kg/kg\n",
        "# //   Saturation Temp: ~17 C\n",
        "# //   Saturation Pressure: 2985 Pa\n",
        "# //   Enthalpy: ~48000 J/kg\n",
        "# //   Specific Volume: 0.855 m3/kg\n",
        "# //   Density: ~1.17\n",
        "# //   Wet Bulb: ~17 C\n",
        "# //   Dew Point: ~13 C\n",
        "# //   Vapor Density: 0.0107 kg/m3\n",
        "# //   Specific Heat: ~1007 J/kgK\n",
        "print(\"Python API Test: Psych props, test point is about 101325Pa, 24C, 50%% humidity:\")\n",
        "db = psychrometrics.dry_bulb(48000, 0.009)\n",
        "print(\"Python API Test: Expected DB ~ 24 C Calculated: %8.4f\" % db)\n",
        "rh = psychrometrics.relative_humidity(24, 0.0107)\n",
        "rh2 = psychrometrics.relative_humidity_b(24, 0.009, 101325)\n",
        "print(\"Python API Test: Expected RH ~ 0.5 Calculated: %8.4f, %8.4f\" % (rh, rh2))\n",
        "hr = psychrometrics.humidity_ratio(24, 48000)\n",
        "hr2 = psychrometrics.humidity_ratio_b(13, 101325)\n",
        "hr3 = psychrometrics.humidity_ratio_c(24, 0.5, 101325)\n",
        "hr4 = psychrometrics.humidity_ratio_d(24, 17, 101325)\n",
        "print(\"Python API Test: Expected HumRat ~ 0.009 Calculated: %8.4f, %8.4f, %8.4f, %8.4f\" % (hr, hr2, hr3, hr4))\n",
        "tSat = psychrometrics.saturation_temperature(48000, 101325)\n",
        "print(\"Python API Test: Expected Tsat ~ 17 C Calculated: %8.4f\" % tSat)\n",
        "pSat = psychrometrics.saturation_pressure(24)\n",
        "print(\"Python API Test: Expected Psat ~ 2985 Pa Calculated: %8.4f\" % pSat)\n",
        "h = psychrometrics.enthalpy(24, 0.009)\n",
        "h2 = psychrometrics.enthalpy_b(24, 0.5, 101325)\n",
        "print(\"Python API Test: Expected Enth ~ 0.48000 J/kg Calculated: %8.4f, %8.4f\" % (h, h2))\n",
        "volume = psychrometrics.specific_volume(24, 0.009, 101325)\n",
        "print(\"Python API Test: Expected v ~ 0.855 m3/kg Calculated: %8.4f\" % volume)\n",
        "density = psychrometrics.density(101325, 24, 0.009)\n",
        "print(\"Python API Test: Expected rho ~ 1.17 kg/m3 Calculated: %8.4f\" % density)\n",
        "wb = psychrometrics.wet_bulb(24, 0.009, 101325)\n",
        "print(\"Python API Test: Expected WB ~ 17 C Calculated: %8.4f\" % wb)\n",
        "dp = psychrometrics.dew_point(0.009, 101325)\n",
        "dp2 = psychrometrics.dew_point_b(24, 17, 101325)\n",
        "print(\"Python API Test: Expected DP ~ 13 C Calculated: %8.4f, %8.4f\" % (dp, dp2))\n",
        "vaporDensity = psychrometrics.vapor_density(24, 0.009, 101325)\n",
        "vaporDensity_2 = psychrometrics.vapor_density_b(24, 0.5)\n",
        "print(\"Python API Test: Expected VapDensity ~ 0.0107 kg/m3 Calculated: %8.4f, %8.4f\" % (vaporDensity, vaporDensity_2))\n",
        "cp = psychrometrics.specific_heat(0.009)\n",
        "print(\"Python API Test: Expected Cp ~ 1007 J/kgK Calculated: %8.4f\" % cp)\n",
        "energy = psychrometrics.latent_energy_of_air(24)\n",
        "print(\"Python API Test: Calculated energy?: %8.4f\" % energy)\n",
        "moisture_energy = psychrometrics.latent_energy_of_moisture_in_air(24)\n",
        "print(\"Python API Test: Calculated energy of moisture: %8.4f\" % moisture_energy)\n",
        "\n",
        "# check that we get error messages back:\n",
        "error_count = 0\n",
        "\n",
        "\n",
        "def error_handler(message: bytes) -> None:\n",
        "    global error_count\n",
        "    error_count += 1\n",
        "\n",
        "\n",
        "api.functional.callback_error(error_handler)\n",
        "erroneous_dew_point = psychrometrics.dew_point_b(16, 17, 101325)\n",
        "print(\"Python API Test: Got back erroneous value of dew point: %8.4f\\n\" % erroneous_dew_point)\n",
        "if error_count > 0:\n",
        "    print(\"Python API Test: Errors were caught during dew point calculation, good!\")\n",
        "else:\n",
        "    print(\"Python API Test: Errors were NOT caught during dew point calculation, bad!\")\n",
        "    sys.exit(1)"
      ],
      "execution_count": 0,
      "outputs": []
    },
    {
      "cell_type": "markdown",
      "metadata": {
        "id": "dQJFkqlZdsOx",
        "colab_type": "text"
      },
      "source": [
        "## 3. DataTransfer API example"
      ]
    },
    {
      "cell_type": "code",
      "metadata": {
        "id": "HJiirPPcd1Rh",
        "colab_type": "code",
        "colab": {}
      },
      "source": [
        "# Example 1 - set outdoor dew point temperature to (oa_temp - 4) \n",
        "\n",
        "one_time = True\n",
        "outdoor_temp_sensor = 0\n",
        "outdoor_dew_point_actuator = 0\n",
        "\n",
        "def time_step_handler():\n",
        "    global one_time, outdoor_temp_sensor, outdoor_dew_point_sensor , outdoor_dew_point_actuator\n",
        "    if one_time:\n",
        "        if not api.exchange.api_data_fully_ready():\n",
        "            return\n",
        "        # get_variable_handle 입력값은 EP 출력값 중 .rdd에 나옴\n",
        "        outdoor_temp_sensor = api.exchange.get_variable_handle( u\"SITE OUTDOOR AIR DRYBULB TEMPERATURE\", u\"ENVIRONMENT\")\n",
        "        # get_actuator_handle 입력값은 EP 출력값 중 .edd에 나옴\n",
        "        outdoor_dew_point_actuator = api.exchange.get_actuator_handle( \"Weather Data\", \"Outdoor Dew Point\", \"Environment\")\n",
        "        one_time = False\n",
        "    oa_temp = api.exchange.get_variable_value(outdoor_temp_sensor)\n",
        "    api.exchange.set_actuator_value(outdoor_dew_point_actuator , oa_temp-4)\n",
        "\n",
        "api = EnergyPlusAPI()\n",
        "api.runtime.callback_end_zone_timestep_after_zone_reporting(time_step_handler)\n",
        "api.exchange.request_variable(\"SITE OUTDOOR AIR DRYBULB TEMPERATURE\", \"ENVIRONMENT\")\n",
        "api.runtime.run_energyplus(EP_CL)"
      ],
      "execution_count": 0,
      "outputs": []
    },
    {
      "cell_type": "code",
      "metadata": {
        "id": "y_p_2onEhDST",
        "colab_type": "code",
        "colab": {}
      },
      "source": [
        "# Example 2\n",
        "\n",
        "one_time = True\n",
        "outdoor_temp_sensor = 0\n",
        "outdoor_dew_point_sensor = 0\n",
        "outdoor_dew_point_actuator = 0\n",
        "\n",
        "\n",
        "def time_step_handler():\n",
        "    global one_time, outdoor_temp_sensor, outdoor_dew_point_sensor, outdoor_dew_point_actuator\n",
        "    sys.stdout.flush()\n",
        "    if one_time:\n",
        "        if api.exchange.api_data_fully_ready():\n",
        "            # val = api.exchange.list_available_api_data_csv()\n",
        "            # with open('/tmp/data.csv', 'w') as f:\n",
        "            #     f.write(val.decode(encoding='utf-8'))\n",
        "            outdoor_temp_sensor = api.exchange.get_variable_handle(\n",
        "                u\"SITE OUTDOOR AIR DRYBULB TEMPERATURE\", u\"ENVIRONMENT\"\n",
        "            )\n",
        "            outdoor_dew_point_sensor = api.exchange.get_variable_handle(\n",
        "                u\"SITE OUTDOOR AIR DEWPOINT TEMPERATURE\", u\"ENVIRONMENT\"\n",
        "            )\n",
        "            outdoor_dew_point_actuator = api.exchange.get_actuator_handle(\n",
        "                \"Weather Data\", \"Outdoor Dew Point\", \"Environment\"\n",
        "            )\n",
        "            if outdoor_temp_sensor == -1 or outdoor_dew_point_sensor == -1 or outdoor_dew_point_actuator == -1:\n",
        "                sys.exit(1)\n",
        "            one_time = False\n",
        "    api.exchange.set_actuator_value(outdoor_dew_point_actuator, -25)\n",
        "    oa_temp = api.exchange.get_variable_value(outdoor_temp_sensor)\n",
        "    print(\"Reading outdoor temp via getVariable, value is: %s\" % oa_temp)\n",
        "    dp_temp = api.exchange.get_variable_value(outdoor_dew_point_sensor)\n",
        "    print(\"Actuated Dew Point temp value is: %s\" % dp_temp)\n",
        "\n",
        "\n",
        "api = EnergyPlusAPI()\n",
        "api.runtime.callback_end_zone_timestep_after_zone_reporting(time_step_handler)\n",
        "api.exchange.request_variable(\"SITE OUTDOOR AIR DRYBULB TEMPERATURE\", \"ENVIRONMENT\")\n",
        "api.exchange.request_variable(\"SITE OUTDOOR AIR DEWPOINT TEMPERATURE\", \"ENVIRONMENT\")\n",
        "api.runtime.run_energyplus(EP_CL)"
      ],
      "execution_count": 0,
      "outputs": []
    }
  ]
}